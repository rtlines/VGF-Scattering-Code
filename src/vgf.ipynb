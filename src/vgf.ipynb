{
 "cells": [
  {
   "cell_type": "code",
   "execution_count": null,
   "metadata": {},
   "outputs": [],
   "source": [
    "import numpy as np\n",
    "\n",
    "W = float(input(\"Enter the wavelength: \"))\n",
    "NSID = float(input(\"Enter the number of dipoles along the major axes: \"))\n",
    "NLSID = float(input(\"Enter the number of fine structure devisions per dipole cell side: \"))\n",
    "RAD = float(input(\"Enter the particle symmetry semi-axes (z-axes radius): \"))\n",
    "alpha = float(input(\"Enter the incident theta (in degrees): \"))\n",
    "beta = float(input(\"Enter the value for phi (in degrees): \"))\n",
    "gamma = float(input(\"Enter the value for gamma (in degrees): \"))\n",
    "psi = float(input(\"Enter the polarization angle (in degrees): \"))\n",
    "MR = float(input(\"Enter the real part of the the index of refraction: \"))\n",
    "MI = float(input(\"Enter the imaginary part of the index of refraction: \"))\n",
    "AR = float(input(\"Enter the aspect ratio (major axis/minor axis): \"))             \n",
    "COMMENTS = float(input(\"Enter the file comments: \"))\n",
    "OUTFILE = float(input(\"Enter the output filename: \"))\n",
    "\n",
    "def SD(W,MI):\n",
    "    if MI = 0:\n",
    "        SD = 0\n",
    "    else:\n",
    "        SD = (W/(2*np.pi*MI))\n",
    "    return SD\n",
    "\n",
    "\n",
    "\n",
    "\n"
   ]
  }
 ],
 "metadata": {
  "kernelspec": {
   "display_name": "Python 3",
   "language": "python",
   "name": "python3"
  },
  "language_info": {
   "codemirror_mode": {
    "name": "ipython",
    "version": 3
   },
   "file_extension": ".py",
   "mimetype": "text/x-python",
   "name": "python",
   "nbconvert_exporter": "python",
   "pygments_lexer": "ipython3",
   "version": "3.7.7"
  }
 },
 "nbformat": 4,
 "nbformat_minor": 4
}
